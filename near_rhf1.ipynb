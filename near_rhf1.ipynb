{
 "cells": [
  {
   "cell_type": "markdown",
   "metadata": {},
   "source": [
    "$\\huge{\\textbf{Rezgéstan HF1 megoldó}} - \\huge{near731}$\n",
    "\n",
    "# Ábra:\n",
    "\n",
    "<img src=\"rezghf_abra.png\"/>"
   ]
  },
  {
   "cell_type": "code",
   "execution_count": 36,
   "metadata": {},
   "outputs": [],
   "source": [
    "#Imports\n",
    "\n",
    "import numpy as np\n",
    "import sympy as sp\n",
    "import math\n",
    "import sympy as sp\n",
    "import math\n",
    "from sympy import init_printing\n",
    "from sympy import *\n",
    "from sympy import Matrix, symbols, solve_linear_system\n",
    "from sympy.interactive import printing\n",
    "from sympy.printing.latex import LatexPrinter, print_latex\n",
    "from sympy import Eq\n",
    "printing.init_printing(use_latex=True)\n"
   ]
  },
  {
   "cell_type": "markdown",
   "metadata": {},
   "source": [
    "$\\Large{\\textbf{Adatok:}}$"
   ]
  },
  {
   "cell_type": "code",
   "execution_count": 37,
   "metadata": {},
   "outputs": [],
   "source": [
    "#Symbols\n",
    "\n",
    "d,ro,m,e,l_1,l_2,l_3,l_4,k_1,k_2,k_t,c_1,F_0,M_0,r_0,omega=sp.symbols(\"d,ro,m,e,l_1,l_2,l_3,l_4,k_1,k_2,k_t,c_1,F_0,M_0,r_0,omega\")\n",
    "theta_A,phi,phi_p,phi_pp,F_r2,G_v,F_d,F_r1,G_f,t=sp.symbols(\"theta_A,phi,phi_p,phi_pp,F_r2,G_v,F_d,F_r1,G_f,t\")\n",
    "\n",
    "#Data\n",
    "\n",
    "d_adat=float(input(\"d=\")) #m\n",
    "ro_adat=float(input(\"ro=\")) #kg/m3\n",
    "m_adat=float(input(\"m=\")) #kg\n",
    "e_adat=float(input(\"e=\")) #[-]\n",
    "l_1_adat=float(input(\"l_1=\")) #m\n",
    "l_2_adat=float(input(\"l_2=\")) #m\n",
    "l_3_adat=float(input(\"l_3=\")) #m\n",
    "l_4_adat=float(input(\"l_4=\")) #m\n",
    "k_1_adat=float(input(\"k_1=\")) #N/m\n",
    "k_2_adat=float(input(\"k_2=\")) #N/m\n",
    "k_t_adat=float(input(\"k_t=\")) #N/rad\n",
    "c_1_adat=float(input(\"c_1=\")) #Ns/m\n",
    "F_0_adat=float(input(\"F_0=\")) #N\n",
    "M_0_adat=float(input(\"M_0=\")) #Nm\n",
    "r_0_adat=float(input(\"r_0=\")) #m\n",
    "omega_adat=float(input(\"omega=\")) #rad/s\n",
    "\n",
    "adat=[(d,d_adat),(ro,ro_adat),(m,m_adat),(e,e_adat),(l_1,l_1_adat),(l_2,l_2_adat),(l_3,l_3_adat),(l_4,l_4_adat),(k_1,k_1_adat),(k_2,k_2_adat),\n",
    "(k_t,k_t_adat),(c_1,c_1_adat),(F_0,F_0_adat),(M_0,M_0_adat),(r_0,r_0_adat),(omega,omega_adat)]\n",
    "\n",
    "\n"
   ]
  },
  {
   "cell_type": "markdown",
   "metadata": {},
   "source": [
    "$\\Large{\\textbf{1.feladatrész:}}$"
   ]
  },
  {
   "cell_type": "code",
   "execution_count": 117,
   "metadata": {},
   "outputs": [
    {
     "name": "stdout",
     "output_type": "stream",
     "text": [
      "1.feladatrész:\n",
      "\n",
      "m_v= 1.27422998029602 [kg]\n",
      "m_f= 0.735132680940011 [kg]\n",
      "Theta_A= 0.136904575985548 [kgm2]\n"
     ]
    }
   ],
   "source": [
    "#1.feladatrész\n",
    "\n",
    "print(\"1.feladatrész:\")\n",
    "\n",
    "m_v=(l_3+l_4)*(d**2*np.pi/4*ro)\n",
    "m_v=m_v.subs(adat)\n",
    "\n",
    "print(\"\\nm_v=\",m_v,\"[kg]\")\n",
    "\n",
    "m_f=(l_1+l_2)*(d**2*np.pi/4*ro)\n",
    "m_f=m_f.subs(adat)\n",
    "\n",
    "print(\"m_f=\",m_f,\"[kg]\")\n",
    "\n",
    "theta_A=1/3*m_f*(l_1+l_2)**2+1/3*m_v*(l_3+l_4)**2\n",
    "theta_A=theta_A.subs(adat)\n",
    "\n",
    "print(\"Theta_A=\",theta_A,\"[kgm2]\")"
   ]
  },
  {
   "cell_type": "markdown",
   "metadata": {},
   "source": [
    "$\\Large{\\textbf{2.feladatrész:}}$"
   ]
  },
  {
   "cell_type": "code",
   "execution_count": 102,
   "metadata": {},
   "outputs": [
    {
     "name": "stdout",
     "output_type": "stream",
     "text": [
      "2.feladatrész:\n",
      "\n",
      "omega_n= 10.8764152355414 [rad/s]\n",
      "zeta= 0.272391908310939 [-]\n"
     ]
    }
   ],
   "source": [
    "print(\"2.feladatrész:\")\n",
    "\n",
    "omega_n=((k_1*l_3**2+k_t+k_2*l_1**2+m_f*g*(l_1+l_2)/2)/theta_A)**(1/2)\n",
    "omega_n=omega_n.subs(adat)\n",
    "print(\"\\nomega_n=\",omega_n,\"[rad/s]\")\n",
    "\n",
    "zeta=(c_1*(l_3+l_4)**2)/(theta_A*2*omega_n)\n",
    "zeta=zeta.subs(adat)\n",
    "print(\"zeta=\",zeta,\"[-]\")\n"
   ]
  },
  {
   "cell_type": "markdown",
   "metadata": {},
   "source": [
    "$\\Large{\\textbf{3.feladatrész:}}$"
   ]
  },
  {
   "cell_type": "code",
   "execution_count": 145,
   "metadata": {},
   "outputs": [
    {
     "name": "stdout",
     "output_type": "stream",
     "text": [
      "3.feladatrész:\n",
      "\n",
      "omega_db= 10.471975511965978 [rad/s]\n",
      "det= 1.753278948659991 [-]\n",
      "zeta_b= 0.26877505820624353 [-]\n",
      "\n",
      "omega_nb= 10.872034036944376 [rad/s]\n"
     ]
    }
   ],
   "source": [
    "print(\"3.feladatrész:\")\n",
    "\n",
    "T_d=float(input(\"T_d becsült:\")) #0.6 s\n",
    "\n",
    "omega_db=2*np.pi/T_d\n",
    "print(\"\\nomega_db=\",omega_db,\"[rad/s]\")\n",
    "\n",
    "sp=float(input(\"Második csúcs:\")) #A 0. csúcs t=0\n",
    "det=1/2*np.log(1/sp)\n",
    "print(\"det=\",det,\"[-]\")\n",
    "\n",
    "zeta_b=det/(4*np.pi**2+det**2)**(1/2)\n",
    "print(\"zeta_b=\",zeta_b,\"[-]\")\n",
    "\n",
    "omega_nb=omega_db/(1-zeta_b**2)**(1/2)\n",
    "print(\"\\nomega_nb=\",omega_nb,\"[rad/s]\")\n"
   ]
  },
  {
   "cell_type": "markdown",
   "metadata": {},
   "source": [
    "$\\Large{\\textbf{4.feladatrész:}}$"
   ]
  },
  {
   "cell_type": "code",
   "execution_count": 140,
   "metadata": {},
   "outputs": [
    {
     "name": "stdout",
     "output_type": "stream",
     "text": [
      "4.feladatrész:\n",
      "\n",
      "m_v= 1.27422998029602 [kg]\n",
      "m_f= 0.735132680940011 [kg]\n",
      "\n",
      "AT= 0.346410161513775 [m]\n",
      "Theta_A= 0.136904575985548 [kgm2]\n",
      "m_t= 1.14087146654624 [kg]\n",
      "\n",
      "c_S1=c_S1n= 1.428434504395788 [m/s]\n",
      "\n",
      "v_Sn= 0.115115428382893 [m/s]\n",
      "\n",
      "v_t= 0.161161599736050 [m/s]\n",
      "omega_t= -0.465233464953197 [rad/s]\n"
     ]
    }
   ],
   "source": [
    "print(\"4.feladatrész:\")\n",
    "\n",
    "m_v=(l_3+l_4)*(d**2*np.pi/4*ro)\n",
    "m_v=m_v.subs(adat)\n",
    "\n",
    "print(\"\\nm_v=\",m_v,\"[kg]\")\n",
    "\n",
    "m_f=(l_1+l_2)*(d**2*np.pi/4*ro)\n",
    "m_f=m_f.subs(adat)\n",
    "\n",
    "print(\"m_f=\",m_f,\"[kg]\")\n",
    "\n",
    "AT=(l_1+l_2)/np.sin(np.pi/3)\n",
    "AT=AT.subs(adat)\n",
    "\n",
    "print(\"\\nAT=\",AT,\"[m]\")\n",
    "\n",
    "theta_A=1/3*m_f*(l_1+l_2)**2+1/3*m_v*(l_3+l_4)**2\n",
    "theta_A=theta_A.subs(adat)\n",
    "\n",
    "print(\"Theta_A=\",theta_A,\"[kgm2]\")\n",
    "\n",
    "m_t=theta_A/(AT**2)\n",
    "m_t=m_t.subs(adat)\n",
    "\n",
    "print(\"m_t=\",m_t,\"[kg]\")\n",
    "\n",
    "\n",
    "h=np.cos(np.pi/6)*l_3\n",
    "h=h.subs(adat)\n",
    "\n",
    "g=9.817 #m/s2\n",
    "\n",
    "c_S1=math.sqrt(2*g*h)\n",
    "\n",
    "c_t=0\n",
    "\n",
    "c_S1n=c_S1\n",
    "print(\"\\nc_S1=c_S1n=\",c_S1n,\"[m/s]\")\n",
    "\n",
    "v_Sn=(c_S1n*m+c_t*m_t)/(m+m_t)\n",
    "v_Sn=v_Sn.subs(adat)\n",
    "\n",
    "print(\"\\nv_Sn=\",v_Sn,\"[m/s]\")\n",
    "\n",
    "v_t=v_Sn+e*(v_Sn-c_t)\n",
    "v_t=v_t.subs(adat)\n",
    "\n",
    "print(\"\\nv_t=\",v_t,\"[m/s]\")\n",
    "\n",
    "omega_t=-v_t/AT\n",
    "print(\"omega_t=\",omega_t,\"[rad/s]\")"
   ]
  },
  {
   "cell_type": "markdown",
   "metadata": {},
   "source": [
    "$\\Large{\\textbf{5.feladatrész:}}$"
   ]
  },
  {
   "cell_type": "code",
   "execution_count": 147,
   "metadata": {},
   "outputs": [
    {
     "name": "stdout",
     "output_type": "stream",
     "text": [
      "5.feladatrész:\n",
      "\n",
      "omega_d= 10.4651387070231 [rad/s]\n",
      "\n",
      "lambda= 2.29855144903867 [-]\n",
      "N= 0.224083313700959 [-]\n",
      "f0= -0.0192648250939852 [rad]\n",
      "Phi= -0.00431692584492959 [rad]\n",
      "Theta= 2.857173299912902 [rad]\n",
      "\n",
      "C1= -0.00121133016879037 [rad]\n",
      "C2= -0.0546967920221933 [rad]\n"
     ]
    }
   ],
   "source": [
    "print(\"5.feladatrész:\")\n",
    "\n",
    "omega_d=omega_n*math.sqrt(1-zeta**2)\n",
    "omega_d=omega_d.subs(adat)\n",
    "print(\"\\nomega_d=\",omega_d,\"[rad/s]\")\n",
    "\n",
    "lambda_1=omega_adat/omega_n\n",
    "print(\"\\nlambda=\",lambda_1,\"[-]\")\n",
    "\n",
    "N=1/((1-lambda_1**2)**2+4*zeta**2*lambda_1**2)**(0.5)\n",
    "print(\"N=\",N,\"[-]\")\n",
    "\n",
    "f0=(-k_1*l_3*r_0)/(theta_A*omega_n**2)+M_0/(omega_n**2*theta_A)+(F_0*l_3)/(omega_n**2*theta_A)\n",
    "f0=f0.subs(adat)\n",
    "print(\"f0=\",f0,\"[rad]\")\n",
    "\n",
    "Phi=N*f0\n",
    "print(\"Phi=\",Phi,\"[rad]\")\n",
    "\n",
    "arb=(2*zeta*lambda_1)/(1-lambda_1**2)\n",
    "Theta=math.atan(arb)+np.pi\n",
    "print(\"Theta=\",Theta,\"[rad]\")\n",
    "\n",
    "C1=-Phi*math.sin(-Theta)\n",
    "print(\"\\nC1=\",C1,\"[rad]\")\n",
    "\n",
    "C2=(omega_t+zeta*omega_n*C1-Phi*omega*math.cos(-Theta))/(omega_d)\n",
    "C2=C2.subs(adat)\n",
    "print(\"C2=\",C2,\"[rad]\")\n"
   ]
  },
  {
   "cell_type": "markdown",
   "metadata": {},
   "source": [
    "$\\Large{\\textbf{phi(t) függvény plotolása:}}$"
   ]
  },
  {
   "cell_type": "code",
   "execution_count": 146,
   "metadata": {},
   "outputs": [
    {
     "name": "stdout",
     "output_type": "stream",
     "text": [
      "Plotolás:\n",
      "\n",
      "10.4651387070231\n"
     ]
    },
    {
     "data": {
      "image/png": "[encoded data removed]",
      "text/plain": [
       "<Figure size 1080x504 with 1 Axes>"
      ]
     },
     "metadata": {
      "needs_background": "light"
     },
     "output_type": "display_data"
    }
   ],
   "source": [
    "from matplotlib import pyplot as plt\n",
    "\n",
    "print(\"Plotolás:\\n\")\n",
    "print(omega_d)\n",
    "\n",
    "plt.rcParams[\"figure.figsize\"] = [15, 7]\n",
    "plt.rcParams[\"figure.autolayout\"] = True\n",
    "\n",
    "plt.title(\"φ(t) function:\")\n",
    "plt.ylabel(\"φ(t)\")\n",
    "plt.xlabel(\"t\")\n",
    "\n",
    "def phi_t(x):\n",
    "    #return np.e**(-zeta*omega_n*x)*(C1*math.cos(omega_d*x)+C2*math.sin(omega_d*x))+Phi*np.math(omega*x-Theta)\n",
    "    return np.e**(-zeta*omega_n*x)*(C1*np.cos(10.4651387070231*x)+C2*np.sin(10.4651387070231*x))+Phi*np.sin(omega_adat*x-Theta)\n",
    "\n",
    "x=np.linspace(0,np.pi,1000)\n",
    "\n",
    "plt.plot(x, phi_t(x), color='blue')\n",
    "plt.grid()\n",
    "plt.show()"
   ]
  }
 ],
 "metadata": {
  "interpreter": {
   "hash": "83935018d8807cf68117c15506cc1f877d56d211f89b0b7dcb34e5fe28f90bdf"
  },
  "kernelspec": {
   "display_name": "Python 3.9.2 64-bit",
   "language": "python",
   "name": "python3"
  },
  "language_info": {
   "codemirror_mode": {
    "name": "ipython",
    "version": 3
   },
   "file_extension": ".py",
   "mimetype": "text/x-python",
   "name": "python",
   "nbconvert_exporter": "python",
   "pygments_lexer": "ipython3",
   "version": "3.10.2"
  },
  "orig_nbformat": 4
 },
 "nbformat": 4,
 "nbformat_minor": 2
}
